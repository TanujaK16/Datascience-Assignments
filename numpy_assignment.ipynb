{
 "cells": [
  {
   "cell_type": "code",
   "execution_count": 3,
   "id": "538842ab-fa0a-440a-9e29-ce95d506ee96",
   "metadata": {},
   "outputs": [
    {
     "name": "stdout",
     "output_type": "stream",
     "text": [
      "Requirement already satisfied: numpy in /opt/anaconda3/lib/python3.12/site-packages (1.26.4)\n"
     ]
    }
   ],
   "source": [
    "#Assignment 1 - Working with NumPy\n",
    "#Step 1 Install NumPy using\n",
    "!pip install numpy\n"
   ]
  },
  {
   "cell_type": "code",
   "execution_count": 8,
   "id": "512a67f4-2b98-4915-9e80-a4e59ded216e",
   "metadata": {},
   "outputs": [
    {
     "name": "stdout",
     "output_type": "stream",
     "text": [
      "[ 1  2  3  4  5  6  7  8  9 10 11 12 13 14 15 16 17 18 19 20]\n",
      "Sum: 210\n",
      "Mean: 10.5\n",
      "Median: 10.5\n",
      "Standard Deviation: 5.766281297335398\n",
      "Indices of elements > 10: [10 11 12 13 14 15 16 17 18 19]\n"
     ]
    }
   ],
   "source": [
    "import numpy as np\n",
    "\n",
    "# Create a 1D NumPy array with integers from 1 to 20\n",
    "arr = np.arange(1,21)\n",
    "print(arr)\n",
    "\n",
    "# a. Calculate sum, mean, median, and standard deviation\n",
    "sum_val = np.sum(arr)\n",
    "mean_val = np.mean(arr)\n",
    "median_val = np.median(arr)\n",
    "std_dev_val = np.std(arr)\n",
    "\n",
    "print(\"Sum:\", sum_val)\n",
    "print(\"Mean:\", mean_val)\n",
    "print(\"Median:\", median_val)\n",
    "print(\"Standard Deviation:\", std_dev_val)\n",
    "\n",
    "# b. Find indices of elements greater than 10\n",
    "ind_gt_10 = np.where(arr>10)[0]\n",
    "print(\"Indices of elements > 10:\", ind_gt_10)"
   ]
  },
  {
   "cell_type": "code",
   "execution_count": 12,
   "id": "8b0fd1dc-0602-48a5-8797-ecf1af49f437",
   "metadata": {},
   "outputs": [
    {
     "name": "stdout",
     "output_type": "stream",
     "text": [
      "Original 4x4 Array:\n",
      " [[ 1  2  3  4]\n",
      " [ 5  6  7  8]\n",
      " [ 9 10 11 12]\n",
      " [13 14 15 16]]\n",
      "Transpose 4x4 Array:\n",
      " [[ 1  5  9 13]\n",
      " [ 2  6 10 14]\n",
      " [ 3  7 11 15]\n",
      " [ 4  8 12 16]]\n",
      "Row-wise sum: [10 26 42 58]\n",
      "Column-wise sum: [10 26 42 58]\n"
     ]
    }
   ],
   "source": [
    "import numpy as np\n",
    "\n",
    "# a. Create a 2D array (4x4) with values from 1 to 16\n",
    "arr_2d = np.arange(1,17).reshape(4,4)\n",
    "print(\"Original 4x4 Array:\\n\", arr_2d)\n",
    "\n",
    "# b. Transpose the array\n",
    "t_arr = arr_2d.T\n",
    "print(\"Transpose 4x4 Array:\\n\", t_arr)\n",
    "\n",
    "# c. Row-wise sum & column-wise sum\n",
    "r_sum = np.sum(arr_2d, axis = 1)\n",
    "print(\"Row-wise sum:\",r_sum)\n",
    "\n",
    "c_sum = np.sum(arr_2d, axis = 0)\n",
    "print(\"Column-wise sum:\",r_sum)\n"
   ]
  },
  {
   "cell_type": "code",
   "execution_count": 22,
   "id": "f32b95c6-2b3d-4a04-90ce-16f33c1ecd04",
   "metadata": {},
   "outputs": [
    {
     "name": "stdout",
     "output_type": "stream",
     "text": [
      "Array A:\n",
      " [[13 16  1]\n",
      " [ 4  4  8]\n",
      " [10 20 19]]\n",
      "Array B:\n",
      " [[ 5  7 13]\n",
      " [ 2  7  8]\n",
      " [15 18  6]]\n",
      "\n",
      "Element-wise Addition:\n",
      " [[18 23 14]\n",
      " [ 6 11 16]\n",
      " [25 38 25]]\n",
      "\n",
      "Element-wise Subtraction:\n",
      " [[  8   9 -12]\n",
      " [  2  -3   0]\n",
      " [ -5   2  13]]\n",
      "\n",
      "Element-wise Multiplication:\n",
      " [[ 65 112  13]\n",
      " [  8  28  64]\n",
      " [150 360 114]]\n",
      "\n",
      "Dot Product of A and B:\n",
      " [[112 221 303]\n",
      " [148 200 132]\n",
      " [375 552 404]]\n"
     ]
    }
   ],
   "source": [
    "import numpy as np\n",
    "\n",
    "np.random.seed(0)\n",
    "\n",
    "# Create two random 3x3 arrays with integers from 1 to 20\n",
    "A = np.random.randint(1,21, size = (3,3))\n",
    "B = np.random.randint(1,21, size = (3,3))\n",
    "\n",
    "print(\"Array A:\\n\", A)\n",
    "print(\"Array B:\\n\", B)\n",
    "\n",
    "# a. Element-wise operations\n",
    "add = A+B\n",
    "sub = A-B\n",
    "mul = A*B\n",
    "\n",
    "print(\"\\nElement-wise Addition:\\n\", add)\n",
    "print(\"\\nElement-wise Subtraction:\\n\", sub)\n",
    "print(\"\\nElement-wise Multiplication:\\n\", mul)\n",
    "\n",
    "# b. Dot product\n",
    "dot_prod = np.dot(A, B)\n",
    "print(\"\\nDot Product of A and B:\\n\", dot_prod)"
   ]
  },
  {
   "cell_type": "code",
   "execution_count": 26,
   "id": "cb715db4-9248-4fff-b199-53f452d8f3ad",
   "metadata": {},
   "outputs": [
    {
     "name": "stdout",
     "output_type": "stream",
     "text": [
      "Original 1D array:\n",
      " [ 1  2  3  4  5  6  7  8  9 10 11 12]\n",
      "Reshaped array:\n",
      " [[ 1  2  3  4]\n",
      " [ 5  6  7  8]\n",
      " [ 9 10 11 12]]\n",
      "\n",
      "Sliced (First 2 Rows, Last 2 Columns):\n",
      " [[3 4]\n",
      " [7 8]]\n"
     ]
    }
   ],
   "source": [
    "import numpy as np\n",
    "\n",
    "arr_1d = np.arange(1,13)\n",
    "print(\"Original 1D array:\\n\", arr_1d)\n",
    "\n",
    "arr_2d = arr_1d.reshape(3,4)\n",
    "print(\"Reshaped array:\\n\", arr_2d)\n",
    "\n",
    "sl = arr_2d[0:2,2:4] #arr_2d[:2, -2:]\n",
    "print(\"\\nSliced (First 2 Rows, Last 2 Columns):\\n\", sl)"
   ]
  }
 ],
 "metadata": {
  "kernelspec": {
   "display_name": "Python 3 (ipykernel)",
   "language": "python",
   "name": "python3"
  },
  "language_info": {
   "codemirror_mode": {
    "name": "ipython",
    "version": 3
   },
   "file_extension": ".py",
   "mimetype": "text/x-python",
   "name": "python",
   "nbconvert_exporter": "python",
   "pygments_lexer": "ipython3",
   "version": "3.12.7"
  }
 },
 "nbformat": 4,
 "nbformat_minor": 5
}
