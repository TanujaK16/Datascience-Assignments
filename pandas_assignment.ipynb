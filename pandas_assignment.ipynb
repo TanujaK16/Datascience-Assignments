{
 "cells": [
  {
   "cell_type": "code",
   "execution_count": 2,
   "id": "a8e17d3f-7d54-42f2-8b45-a11645f44f96",
   "metadata": {},
   "outputs": [
    {
     "name": "stdout",
     "output_type": "stream",
     "text": [
      "Requirement already satisfied: pandas in /opt/anaconda3/lib/python3.12/site-packages (2.2.2)\n",
      "Requirement already satisfied: numpy>=1.26.0 in /opt/anaconda3/lib/python3.12/site-packages (from pandas) (1.26.4)\n",
      "Requirement already satisfied: python-dateutil>=2.8.2 in /opt/anaconda3/lib/python3.12/site-packages (from pandas) (2.9.0.post0)\n",
      "Requirement already satisfied: pytz>=2020.1 in /opt/anaconda3/lib/python3.12/site-packages (from pandas) (2024.1)\n",
      "Requirement already satisfied: tzdata>=2022.7 in /opt/anaconda3/lib/python3.12/site-packages (from pandas) (2023.3)\n",
      "Requirement already satisfied: six>=1.5 in /opt/anaconda3/lib/python3.12/site-packages (from python-dateutil>=2.8.2->pandas) (1.16.0)\n"
     ]
    }
   ],
   "source": [
    "#Assignment 2 - Working with Pandas\n",
    "!pip install pandas"
   ]
  },
  {
   "cell_type": "code",
   "execution_count": 19,
   "id": "e8ae4bff-18e2-4f57-b426-3a94cec38cf1",
   "metadata": {},
   "outputs": [
    {
     "name": "stdout",
     "output_type": "stream",
     "text": [
      "First five rows of the DataFrame:\n",
      "      Name  Age Department  Salary\n",
      "0    Alice   24         HR   45000\n",
      "1      Bob   27    Finance   54000\n",
      "2  Charlie   22         IT   50000\n",
      "3    Diana   32  Marketing   62000\n",
      "4      Eve   29         HR   47000\n",
      "Summary statistics of the 'Age' and 'Salary' columns:\n",
      "             Age        Salary\n",
      "count   5.000000      5.000000\n",
      "mean   26.800000  51600.000000\n",
      "std     3.962323   6730.527468\n",
      "min    22.000000  45000.000000\n",
      "25%    24.000000  47000.000000\n",
      "50%    27.000000  50000.000000\n",
      "75%    29.000000  54000.000000\n",
      "max    32.000000  62000.000000\n",
      "\n",
      "Average salary in HR department: 46000.0\n",
      "      Name  Age Department  Salary   Bonus\n",
      "0    Alice   24         HR   45000  4500.0\n",
      "1      Bob   27    Finance   54000  5400.0\n",
      "2  Charlie   22         IT   50000  5000.0\n",
      "3    Diana   32  Marketing   62000  6200.0\n",
      "4      Eve   29         HR   47000  4700.0\n",
      "  Name  Age Department  Salary   Bonus\n",
      "1  Bob   27    Finance   54000  5400.0\n",
      "4  Eve   29         HR   47000  4700.0\n",
      "Department\n",
      "Finance      54000.0\n",
      "HR           46000.0\n",
      "IT           50000.0\n",
      "Marketing    62000.0\n",
      "Name: Salary, dtype: float64\n",
      "      Name  Age Department  Salary   Bonus\n",
      "0    Alice   24         HR   45000  4500.0\n",
      "4      Eve   29         HR   47000  4700.0\n",
      "2  Charlie   22         IT   50000  5000.0\n",
      "1      Bob   27    Finance   54000  5400.0\n",
      "3    Diana   32  Marketing   62000  6200.0\n"
     ]
    }
   ],
   "source": [
    "import pandas as pd\n",
    "\n",
    "#step1: create a dataframe\n",
    "data = {\n",
    "      'Name': ['Alice', 'Bob', 'Charlie', 'Diana', 'Eve'],\n",
    "      'Age': [24, 27, 22, 32, 29],\n",
    "      'Department': ['HR', 'Finance', 'IT', 'Marketing', 'HR'],\n",
    "      'Salary': [45000, 54000, 50000, 62000, 47000]\n",
    "  }\n",
    "\n",
    "df = pd.DataFrame(data)\n",
    "\n",
    "print(\"First five rows of the DataFrame:\")\n",
    "print(df)\n",
    "\n",
    "print(\"Summary statistics of the 'Age' and 'Salary' columns:\")\n",
    "print(df[['Age','Salary']].describe())\n",
    "\n",
    "hr_avg_sal = df[df['Department'] == 'HR']['Salary'].mean()\n",
    "print(f\"\\nAverage salary in HR department: {hr_avg_sal}\")\n",
    "\n",
    "#2\n",
    "df['Bonus'] = df['Salary'] * 0.10\n",
    "print(df)\n",
    "\n",
    "#3\n",
    "filter_df = df[(df['Age'] >=25 ) & (df['Age'] <=30)]\n",
    "print(filter_df)\n",
    "\n",
    "#4\n",
    "avg_sal_by_dept = df.groupby('Department')['Salary'].mean()\n",
    "print(avg_sal_by_dept)\n",
    "\n",
    "#5\n",
    "sort_df = df.sort_values(by = 'Salary', ascending = True)\n",
    "print(sort_df)\n",
    "\n",
    "sort_df.to_csv('sorted_employees_by_salary.csv', index=False)"
   ]
  }
 ],
 "metadata": {
  "kernelspec": {
   "display_name": "Python 3 (ipykernel)",
   "language": "python",
   "name": "python3"
  },
  "language_info": {
   "codemirror_mode": {
    "name": "ipython",
    "version": 3
   },
   "file_extension": ".py",
   "mimetype": "text/x-python",
   "name": "python",
   "nbconvert_exporter": "python",
   "pygments_lexer": "ipython3",
   "version": "3.12.7"
  }
 },
 "nbformat": 4,
 "nbformat_minor": 5
}
