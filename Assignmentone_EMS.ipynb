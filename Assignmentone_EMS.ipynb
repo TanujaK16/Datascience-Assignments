{
 "cells": [
  {
   "cell_type": "code",
   "execution_count": null,
   "id": "9e96d55e-e4ba-4739-895c-6b0dbcbc4b2d",
   "metadata": {},
   "outputs": [
    {
     "name": "stdout",
     "output_type": "stream",
     "text": [
      "=== Employee Management System ===\n",
      "1.Add Employee\n",
      "2.View All Employees\n",
      "3.Search for Employee\n",
      "4.Exit \n"
     ]
    },
    {
     "name": "stdin",
     "output_type": "stream",
     "text": [
      "Enter your choice 1-2:  3\n",
      "Enter employee ID:  101\n"
     ]
    },
    {
     "name": "stdout",
     "output_type": "stream",
     "text": [
      "Name: Satya\n",
      "age: 27\n",
      "department: HR\n",
      "salary: 50000\n",
      "=== Employee Management System ===\n",
      "1.Add Employee\n",
      "2.View All Employees\n",
      "3.Search for Employee\n",
      "4.Exit \n"
     ]
    },
    {
     "name": "stdin",
     "output_type": "stream",
     "text": [
      "Enter your choice 1-2:  2\n"
     ]
    },
    {
     "name": "stdout",
     "output_type": "stream",
     "text": [
      "---All employees---\n",
      "ID         Name                 Age   Department      Salary    \n",
      "------------------------------------------------------------\n",
      "101        Satya                27    HR              50000     \n",
      "102        Raj                  21    JD              15000     \n",
      "103        Priya                29    Marketing       25000     \n",
      "104        Shubham              32    SD              60000     \n",
      "105        Abhi                 40    DR              90000     \n",
      "=== Employee Management System ===\n",
      "1.Add Employee\n",
      "2.View All Employees\n",
      "3.Search for Employee\n",
      "4.Exit \n"
     ]
    },
    {
     "name": "stdin",
     "output_type": "stream",
     "text": [
      "Enter your choice 1-2:  1\n"
     ]
    },
    {
     "name": "stdout",
     "output_type": "stream",
     "text": [
      "---Add new employee---\n"
     ]
    },
    {
     "name": "stdin",
     "output_type": "stream",
     "text": [
      "Add employee id:  106\n",
      "Enter employee name:  Asha\n",
      "Add employee age:  25\n",
      "Enter department name:  Finance\n",
      "Add employee salary:  20000\n"
     ]
    },
    {
     "name": "stdout",
     "output_type": "stream",
     "text": [
      "Employee details added successfully!\n",
      "=== Employee Management System ===\n",
      "1.Add Employee\n",
      "2.View All Employees\n",
      "3.Search for Employee\n",
      "4.Exit \n"
     ]
    },
    {
     "name": "stdin",
     "output_type": "stream",
     "text": [
      "Enter your choice 1-2:  2\n"
     ]
    },
    {
     "name": "stdout",
     "output_type": "stream",
     "text": [
      "---All employees---\n",
      "ID         Name                 Age   Department      Salary    \n",
      "------------------------------------------------------------\n",
      "101        Satya                27    HR              50000     \n",
      "102        Raj                  21    JD              15000     \n",
      "103        Priya                29    Marketing       25000     \n",
      "104        Shubham              32    SD              60000     \n",
      "105        Abhi                 40    DR              90000     \n",
      "106        Asha                 25    Finance         20000.0   \n",
      "=== Employee Management System ===\n",
      "1.Add Employee\n",
      "2.View All Employees\n",
      "3.Search for Employee\n",
      "4.Exit \n"
     ]
    }
   ],
   "source": [
    "#employee dictionary\n",
    "employees = {\n",
    "    101: {'name': 'Satya', 'age': 27, 'department': 'HR', 'salary': 50000},\n",
    "    102: {'name': 'Raj', 'age': 21, 'department': 'JD', 'salary': 15000},\n",
    "    103: {'name': 'Priya', 'age': 29, 'department': 'Marketing', 'salary': 25000},\n",
    "    104: {'name': 'Shubham', 'age': 32, 'department': 'SD', 'salary': 60000},\n",
    "    105: {'name': 'Abhi', 'age': 40, 'department': 'DR', 'salary': 90000}\n",
    "}\n",
    "\n",
    "#Add new employee details\n",
    "def add_new_emp():\n",
    "    print(\"---Add new employee---\")\n",
    "\n",
    "    while True:\n",
    "        try:\n",
    "            emp_id = int(input(\"Add employee id: \"))\n",
    "            if emp_id in employees:\n",
    "                print(\"Employee ID already exists! please enter unique value\")\n",
    "            else:\n",
    "                break\n",
    "        except ValueError:\n",
    "            print(\"Invalid input! please enter numeric Employee ID\")\n",
    "            \n",
    "    name = input(\"Enter employee name: \")\n",
    "\n",
    "    while True:\n",
    "        try:\n",
    "            age = int(input(\"Add employee age: \"))\n",
    "            break\n",
    "        except ValueError:\n",
    "            print(\"Invalid input! please enter numeric Employee age\")\n",
    "\n",
    "    department = input(\"Enter department name: \")\n",
    "\n",
    "    while True:\n",
    "        try:\n",
    "            salary = float(input(\"Add employee salary: \"))\n",
    "            break\n",
    "        except ValueError:\n",
    "            print(\"Invalid input! please enter valid Employee salary\")\n",
    "\n",
    "    employees[emp_id] = {'name': name, 'age': age,'department': department, 'salary':salary}\n",
    "\n",
    "    print(\"Employee details added successfully!\")\n",
    "\n",
    "\n",
    "#view all employee\n",
    "def view_emp():\n",
    "    print(\"---All employees---\")\n",
    "    if not employees:\n",
    "        print(\"No employees available\")\n",
    "        return\n",
    "    print(\"{:<10} {:<20} {:<5} {:<15} {:<10}\".format(\"ID\", \"Name\", \"Age\", \"Department\", \"Salary\"))\n",
    "    print(\"-\" * 60)\n",
    "\n",
    "    for emp_id, details in employees.items():\n",
    "        print(\"{:<10} {:<20} {:<5} {:<15} {:<10}\".format(\n",
    "            emp_id,\n",
    "            details['name'],\n",
    "            details['age'],\n",
    "            details['department'],\n",
    "            details['salary']\n",
    "        ))\n",
    "        \n",
    "    \n",
    "# search for employee\n",
    "def search_emp():\n",
    "    emp_id = int(input(\"Enter employee ID: \"))\n",
    "\n",
    "    if emp_id not in employees:\n",
    "        print(\"employee not found\")\n",
    "        return\n",
    "\n",
    "    else:\n",
    "        emp = employees[emp_id]\n",
    "        print(f\"Name: {emp['name']}\")\n",
    "        print(f\"age: {emp['age']}\")\n",
    "        print(f\"department: {emp['department']}\")\n",
    "        print(f\"salary: {emp['salary']}\")\n",
    "    \n",
    "    \n",
    "#main menu\n",
    "while True:\n",
    "    print(\"=== Employee Management System ===\")\n",
    "    print(\"1.Add Employee\")\n",
    "    print(\"2.View All Employees\")\n",
    "    print(\"3.Search for Employee\")\n",
    "    print(\"4.Exit \")\n",
    "\n",
    "    choice = input(\"Enter your choice 1-2: \")\n",
    "\n",
    "    if choice == '1':\n",
    "        add_new_emp()\n",
    "    elif choice == '2':\n",
    "        view_emp()\n",
    "    elif choice == '3':\n",
    "        search_emp()\n",
    "    elif choice == '4':\n",
    "        print(\"Thanks for using EMS!\")\n",
    "        break\n",
    "    else:\n",
    "        print(\"Invalid choice!\")\n",
    "\n",
    "    \n",
    "\n",
    "    \n",
    "    \n",
    "            \n",
    "        "
   ]
  },
  {
   "cell_type": "code",
   "execution_count": null,
   "id": "ffda10d0-3222-4ed8-812e-f827dedad738",
   "metadata": {},
   "outputs": [],
   "source": []
  }
 ],
 "metadata": {
  "kernelspec": {
   "display_name": "Python 3 (ipykernel)",
   "language": "python",
   "name": "python3"
  },
  "language_info": {
   "codemirror_mode": {
    "name": "ipython",
    "version": 3
   },
   "file_extension": ".py",
   "mimetype": "text/x-python",
   "name": "python",
   "nbconvert_exporter": "python",
   "pygments_lexer": "ipython3",
   "version": "3.12.7"
  }
 },
 "nbformat": 4,
 "nbformat_minor": 5
}
